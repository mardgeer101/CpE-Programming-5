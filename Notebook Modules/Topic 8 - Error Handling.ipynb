{
 "cells": [
  {
   "cell_type": "markdown",
   "id": "bdbe31e7-1ac8-465c-a29e-3b05912dbd27",
   "metadata": {},
   "source": [
    "# ⚠️ Topic 8: Error Handling and Exceptions\n",
    "\n",
    "---\n",
    "\n",
    "## ✅ Learning Objectives\n",
    "By the end of this lesson, students will be able to:\n",
    "- Use `try`, `except`, and `finally` blocks\n",
    "- Catch and handle specific exceptions (e.g., `ZeroDivisionError`, `ValueError`)\n",
    "- Avoid program crashes using error control\n",
    "- Raise custom exceptions when needed\n",
    "\n",
    "---\n",
    "\n",
    "## 1. 🚨 Basic Exception Handling\n",
    "\n",
    "---\n",
    "\n",
    "### ✅ Syntax\n",
    "```python\n",
    "try:\n",
    "    # risky code\n",
    "except ErrorType:\n",
    "    # handle error"
   ]
  },
  {
   "cell_type": "markdown",
   "id": "36ac5ceb-056d-4ca7-8c35-4781bbd16e04",
   "metadata": {},
   "source": [
    "## Example"
   ]
  },
  {
   "cell_type": "code",
   "execution_count": 12,
   "id": "093186b4-0ad5-4b2c-9a58-ca06cdc96b7a",
   "metadata": {},
   "outputs": [
    {
     "name": "stdin",
     "output_type": "stream",
     "text": [
      "Enter a number:  6\n"
     ]
    },
    {
     "name": "stdout",
     "output_type": "stream",
     "text": [
      "16.666666666666668\n"
     ]
    }
   ],
   "source": [
    "try:\n",
    "    x = int(input(\"Enter a number: \"))\n",
    "    print(100 / x)\n",
    "except ZeroDivisionError:\n",
    "    print(\"You can't divide by zero!\")\n",
    "except ValueError:\n",
    "    print(\"That was not a number!\")\n"
   ]
  },
  {
   "cell_type": "markdown",
   "id": "aaa80afe-0710-4e4e-944f-a14c938ae3a5",
   "metadata": {},
   "source": [
    "## word problem\n",
    "\n",
    "### 1. Write a program that:\n",
    "    - Asks the user for two numbers\n",
    "    - Divides the first by the second\n",
    "    - Catches ZeroDivisionError and ValueError with friendly messages"
   ]
  },
  {
   "cell_type": "code",
   "execution_count": 15,
   "id": "32318c5d-8429-4988-b4b8-f398f41422c5",
   "metadata": {},
   "outputs": [
    {
     "name": "stdin",
     "output_type": "stream",
     "text": [
      "Enter first number:  a\n"
     ]
    },
    {
     "name": "stdout",
     "output_type": "stream",
     "text": [
      "⚠️ Invalid input! Please enter a number.\n"
     ]
    }
   ],
   "source": [
    "# Math Crisis Hotline\n",
    "\n",
    "try:\n",
    "    num1 = float(input(\"Enter first number: \"))\n",
    "    num2 = float(input(\"Enter second number: \"))\n",
    "    result = num1 / num2\n",
    "    print(f\"Result: {result}\")\n",
    "except ZeroDivisionError:\n",
    "    print(\"⚠️ You can't divide by zero!\")\n",
    "except ValueError:\n",
    "    print(\"⚠️ Invalid input! Please enter a number.\")\n"
   ]
  },
  {
   "cell_type": "markdown",
   "id": "c539dff2-05e9-40d7-a0fc-be0091451f65",
   "metadata": {},
   "source": [
    "### 2. Write a program that:\n",
    "    - Asks for a filename\n",
    "    - Tries to open and read it\n",
    "    - If the file doesn’t exist, prints: \"Missing file alert! Did you mistype it?\"  \n",
    "✅ Use FileNotFoundError"
   ]
  },
  {
   "cell_type": "code",
   "execution_count": 16,
   "id": "375ff67b-8c13-4b06-ba83-51c78b251f45",
   "metadata": {
    "scrolled": true
   },
   "outputs": [
    {
     "name": "stdin",
     "output_type": "stream",
     "text": [
      "Enter name of student 1:  john\n",
      "Enter grade for john:  80\n",
      "Enter name of student 2:  mark\n",
      "Enter grade for mark:  85\n",
      "Enter name of student 3:  luke\n",
      "Enter grade for luke:  86\n",
      "Enter name of student 4:  matthew\n",
      "Enter grade for matthew:  89\n",
      "Enter name of student 5:  simon\n",
      "Enter grade for simon:  75\n"
     ]
    },
    {
     "name": "stdout",
     "output_type": "stream",
     "text": [
      "\n",
      "📄 Grade Report:\n",
      "john - 80\n",
      "mark - 85\n",
      "luke - 86\n",
      "matthew - 89\n",
      "simon - 75\n"
     ]
    }
   ],
   "source": [
    "# Grade File Uploader\n",
    "\n",
    "# Step 1: Write 5 student-grade pairs to grades.txt\n",
    "with open(\"grades.txt\", \"w\") as f:\n",
    "    for i in range(5):\n",
    "        name = input(f\"Enter name of student {i+1}: \")\n",
    "        grade = input(f\"Enter grade for {name}: \")\n",
    "        f.write(f\"{name} - {grade}\\n\")\n",
    "\n",
    "# Step 2: Read and print the file\n",
    "print(\"\\n📄 Grade Report:\")\n",
    "with open(\"grades.txt\", \"r\") as f:\n",
    "    for line in f:\n",
    "        print(line.strip())\n"
   ]
  },
  {
   "cell_type": "code",
   "execution_count": null,
   "id": "cced65c0-5ebe-4ffb-af2a-3813df5ef8ed",
   "metadata": {},
   "outputs": [],
   "source": []
  }
 ],
 "metadata": {
  "kernelspec": {
   "display_name": "Python 3 (ipykernel)",
   "language": "python",
   "name": "python3"
  },
  "language_info": {
   "codemirror_mode": {
    "name": "ipython",
    "version": 3
   },
   "file_extension": ".py",
   "mimetype": "text/x-python",
   "name": "python",
   "nbconvert_exporter": "python",
   "pygments_lexer": "ipython3",
   "version": "3.10.11"
  }
 },
 "nbformat": 4,
 "nbformat_minor": 5
}
