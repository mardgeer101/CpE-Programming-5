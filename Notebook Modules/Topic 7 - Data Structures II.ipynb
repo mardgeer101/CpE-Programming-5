{
 "cells": [
  {
   "cell_type": "markdown",
   "id": "4f523a38-c331-4cc3-acb3-fc2cc8504b51",
   "metadata": {},
   "source": [
    "# Topic 7: Data Structures II – Dictionaries and Sets\n",
    "\n",
    "---\n",
    "\n",
    "## ✅ Learning Objectives\n",
    "By the end of this lesson, students will be able to:\n",
    "- Understand what dictionaries and sets are\n",
    "- Use key-value pairs to store and retrieve data\n",
    "- Apply set operations like union, intersection, and difference\n",
    "- Write programs using dictionaries and sets effectively\n",
    "\n",
    "---\n",
    "\n",
    "## 1. 🗂️ Dictionaries\n",
    "\n",
    "---\n",
    "\n",
    "### ✅ What is a Dictionary?\n",
    "- A **dictionary** is a collection of **key-value pairs**.\n",
    "- Keys must be **unique** and **immutable** (e.g., strings, numbers, tuples).\n",
    "- Defined using **curly braces `{}`**.\n",
    "\n",
    "---\n",
    "\n",
    "### 🧩 Syntax\n",
    "```python\n",
    "my_dict = {\n",
    "    \"key1\": value1,\n",
    "    \"key2\": value2\n",
    "}"
   ]
  },
  {
   "cell_type": "markdown",
   "id": "29e051b4-521d-4ed1-aa43-6fe6d2245682",
   "metadata": {},
   "source": [
    "### 1. Creating a Dictionary"
   ]
  },
  {
   "cell_type": "markdown",
   "id": "db3d0ab9-a1ad-46fd-a03f-854ef6e8ab52",
   "metadata": {},
   "source": [
    "Examples\n",
    "1. Creating a Dictionary"
   ]
  },
  {
   "cell_type": "code",
   "execution_count": 20,
   "id": "089e70b3-d715-4493-aca7-74a7538ebd02",
   "metadata": {},
   "outputs": [],
   "source": [
    "student = {\"name\": \"Ana\", \n",
    "           \"age\": 20, \n",
    "           \"course\": \"BS CpE\"\n",
    "          }"
   ]
  },
  {
   "cell_type": "markdown",
   "id": "3a8254b3-3ba0-4773-b184-7ca948783db0",
   "metadata": {},
   "source": [
    "### 2. Accessing Values"
   ]
  },
  {
   "cell_type": "code",
   "execution_count": 21,
   "id": "69ac3736-ff13-4531-9b78-40cc01b769e0",
   "metadata": {},
   "outputs": [
    {
     "name": "stdout",
     "output_type": "stream",
     "text": [
      "20\n"
     ]
    }
   ],
   "source": [
    "print(student[\"age\"])\n"
   ]
  },
  {
   "cell_type": "markdown",
   "id": "137b266b-1be7-4129-b58e-c5d729be16a6",
   "metadata": {},
   "source": [
    "### 3. Adding and Updating"
   ]
  },
  {
   "cell_type": "code",
   "execution_count": 24,
   "id": "2aa9f5cf-4439-4c6e-b330-33d1c068eeaa",
   "metadata": {},
   "outputs": [],
   "source": [
    "student[\"year\"] = 2\n",
    "student[\"age\"] = 21\n"
   ]
  },
  {
   "cell_type": "code",
   "execution_count": 25,
   "id": "e3fc9737-0d47-4c23-a533-3206c629fd97",
   "metadata": {},
   "outputs": [
    {
     "name": "stdout",
     "output_type": "stream",
     "text": [
      "21\n"
     ]
    }
   ],
   "source": [
    "print(student[\"age\"])"
   ]
  },
  {
   "cell_type": "markdown",
   "id": "f7b5fda6-8741-4d57-a599-8c97647e03c1",
   "metadata": {},
   "source": [
    "### 4. Looping Through a Dictionary"
   ]
  },
  {
   "cell_type": "code",
   "execution_count": 26,
   "id": "dc985e97-4862-4c80-872d-a0b9ebf96382",
   "metadata": {},
   "outputs": [
    {
     "name": "stdout",
     "output_type": "stream",
     "text": [
      "name : Ana\n",
      "age : 21\n",
      "course : BS CpE\n",
      "year : 2\n"
     ]
    }
   ],
   "source": [
    "for key, value in student.items():\n",
    "    print(key, \":\", value)\n"
   ]
  },
  {
   "cell_type": "markdown",
   "id": "ff106e4d-f782-4cb2-967a-b9bdb6103afe",
   "metadata": {},
   "source": [
    "### 5. Dictionary Methods"
   ]
  },
  {
   "cell_type": "code",
   "execution_count": 14,
   "id": "e53bd8f5-7b5a-4fc2-9d91-a49976de4c0b",
   "metadata": {},
   "outputs": [
    {
     "name": "stdout",
     "output_type": "stream",
     "text": [
      "dict_keys(['name', 'age', 'course', 'year'])\n",
      "dict_values(['Ana', 21, 'BS CpE', 2])\n",
      "BS CpE\n"
     ]
    }
   ],
   "source": [
    "print(student.keys())\n",
    "print(student.values())\n",
    "print(student.get(\"course\"))\n"
   ]
  },
  {
   "cell_type": "markdown",
   "id": "688f1bab-733d-45eb-acdb-a8b6455ba07e",
   "metadata": {},
   "source": [
    "## Sets"
   ]
  },
  {
   "cell_type": "markdown",
   "id": "5967caff-fd20-402e-9228-3d1d21731189",
   "metadata": {},
   "source": [
    "### ✅ What is a Set?  \n",
    "A **set** is an **unordered, unindexed** collection of **unique elements**  \n",
    "Sets do **not allow duplicates**.  \n",
    "Defined using **curly braces** `{}` or the `set()` function."
   ]
  },
  {
   "cell_type": "markdown",
   "id": "5ca4fe1a-f8ad-48f6-ba85-4bb29cfeb044",
   "metadata": {},
   "source": [
    "### 🧩 Syntax\n",
    "``` python\n",
    "my_set = {1, 2, 3}\n",
    "```"
   ]
  },
  {
   "cell_type": "markdown",
   "id": "2bd57442-3cbd-4207-8c50-498ea9beb728",
   "metadata": {},
   "source": [
    "### 1. Creating and Using Sets"
   ]
  },
  {
   "cell_type": "code",
   "execution_count": 30,
   "id": "c481e430-dbe6-4ecb-8ca5-7026dbe32c84",
   "metadata": {},
   "outputs": [
    {
     "name": "stdout",
     "output_type": "stream",
     "text": [
      "True\n"
     ]
    }
   ],
   "source": [
    "fruits = {\"apple\", \"banana\", \"cherry\"}\n",
    "print(\"apple\" in fruits)  # True\n"
   ]
  },
  {
   "cell_type": "markdown",
   "id": "6ad64a70-f4a8-47fc-9b15-a4097ce557d9",
   "metadata": {},
   "source": [
    "### 2. Adding and Removing"
   ]
  },
  {
   "cell_type": "code",
   "execution_count": 31,
   "id": "8599317c-0e03-4660-91b9-aaa75935fe7c",
   "metadata": {},
   "outputs": [],
   "source": [
    "fruits.add(\"mango\")\n",
    "fruits.remove(\"apple\")\n"
   ]
  },
  {
   "cell_type": "code",
   "execution_count": 32,
   "id": "6f856b97-06a4-464e-ac54-5acfe26e94e6",
   "metadata": {},
   "outputs": [
    {
     "name": "stdout",
     "output_type": "stream",
     "text": [
      "False\n"
     ]
    }
   ],
   "source": [
    "print (\"apple\" in fruits)"
   ]
  },
  {
   "cell_type": "markdown",
   "id": "a2a33b1a-74e8-4c40-a10a-c5531d9c7b80",
   "metadata": {},
   "source": [
    "### 3. Set Operations"
   ]
  },
  {
   "cell_type": "code",
   "execution_count": 18,
   "id": "61edd4ad-2b27-43cc-a912-84afd0f369bd",
   "metadata": {},
   "outputs": [
    {
     "name": "stdout",
     "output_type": "stream",
     "text": [
      "{1, 2, 3, 4, 5}\n",
      "{3}\n",
      "{1, 2}\n"
     ]
    }
   ],
   "source": [
    "a = {1, 2, 3}\n",
    "b = {3, 4, 5}\n",
    "\n",
    "print(a | b)  # Union\n",
    "print(a & b)  # Intersection\n",
    "print(a4 - b)  # Difference\n"
   ]
  },
  {
   "cell_type": "markdown",
   "id": "5297b395-2cf9-413d-ad19-44f01aca94b8",
   "metadata": {},
   "source": [
    "### 4. Removing Duplicates from a List"
   ]
  },
  {
   "cell_type": "code",
   "execution_count": 19,
   "id": "77e0bc8c-f23e-46e1-b2b5-5014bacfd025",
   "metadata": {},
   "outputs": [
    {
     "name": "stdout",
     "output_type": "stream",
     "text": [
      "[1, 2, 3, 4]\n"
     ]
    }
   ],
   "source": [
    "nums = [1, 2, 2, 3, 4, 4]\n",
    "unique_nums = list(set(nums))\n",
    "print(unique_nums)\n"
   ]
  },
  {
   "cell_type": "markdown",
   "id": "9d2491f8-c651-4230-bca2-d83640050fef",
   "metadata": {},
   "source": [
    "# 🧪 Lab Activity – Topic 7: Dictionaries and Sets\n",
    "\n",
    "---\n",
    "\n",
    "## 🎯 Objectives\n",
    "- Apply dictionary operations: insert, update, access, loop\n",
    "- Use sets to handle unique data and perform set operations\n",
    "- Strengthen problem-solving skills using Python data structures\n",
    "\n",
    "---\n",
    "\n",
    "## 🔧 Instructions\n",
    "Complete the following tasks using Python. You may use Jupyter Notebook, IDLE, or any online Python editor.\n",
    "\n",
    "---\n",
    "\n",
    "## 🧩 Part 1: Python Dictionary – Student Grades\n",
    "\n",
    "1. Create an empty dictionary called `grades`.\n",
    "2. Ask the user to input **5 student names** and their corresponding grades.\n",
    "3. Store them in the dictionary.\n",
    "4. Display all student-grade pairs.\n",
    "5. Ask the user for a name and:\n",
    "   - If it exists, print the grade.\n",
    "   - If not, print “Student not found.”\n",
    "\n",
    "### ✅ Sample Input/Output\n",
    "\n",
    "\n",
    "# 🧪 Lab Activity – Week 7: Dictionaries and Sets\n",
    "\n",
    "---\n",
    "\n",
    "## 🎯 Objectives\n",
    "- Apply dictionary operations: insert, update, access, loop\n",
    "- Use sets to handle unique data and perform set operations\n",
    "- Strengthen problem-solving skills using Python data structures\n",
    "\n",
    "---\n",
    "\n",
    "## 🔧 Instructions\n",
    "Complete the following tasks using Python. You may use Jupyter Notebook, IDLE, or any online Python editor.\n",
    "\n",
    "---\n",
    "\n",
    "## 🧩 Part 1: Python Dictionary – Student Grades\n",
    "\n",
    "1. Create an empty dictionary called `grades`.\n",
    "2. Ask the user to input **5 student names** and their corresponding grades.\n",
    "3. Store them in the dictionary.\n",
    "4. Display all student-grade pairs.\n",
    "5. Ask the user for a name and:\n",
    "   - If it exists, print the grade.\n",
    "   - If not, print “Student not found.”\n",
    "\n",
    "### ✅ Sample Input/Output\n",
    "\n",
    "```prompt\n",
    "Enter student name: Anna\n",
    "Enter grade: 92\n",
    "...\n",
    "Enter student name: Mark\n",
    "Enter grade: 85\n",
    "\n",
    "Student Grades:\n",
    "Anna : 92\n",
    "Mark : 85\n",
    "...\n",
    "\n",
    "Enter a student to search: Mark\n",
    "Mark's grade is 85"
   ]
  },
  {
   "cell_type": "markdown",
   "id": "127c6229-410f-4540-bde2-7cd0c10fae4c",
   "metadata": {},
   "source": [
    "\n",
    "---\n",
    "\n",
    "## 🧩 Part 2: Python Set – Unique Words\n",
    "\n",
    "1. Create an empty set called `unique_words`.\n",
    "2. Ask the user to input a sentence.\n",
    "3. Split the sentence into words and add each word to the set.\n",
    "4. Print the unique words (unordered).\n",
    "5. Print the total number of unique words.\n",
    "\n",
    "### ✅ Sample Input/Output\n",
    "```prompt\n",
    "Enter a sentence: The quick brown fox jumps over the lazy dog\n",
    "Unique words: {'fox', 'jumps', 'over', 'lazy', 'dog', 'The', 'quick', 'brown'}\n",
    "Total unique words: 8"
   ]
  },
  {
   "cell_type": "markdown",
   "id": "286889b2-1207-4547-8d4b-41b53ca152fa",
   "metadata": {},
   "source": [
    "- Submit your `.py` or `.ipynb` file with both parts completed.\n",
    "- Include your name and student ID in the first cell or top comment."
   ]
  }
 ],
 "metadata": {
  "kernelspec": {
   "display_name": "Python 3 (ipykernel)",
   "language": "python",
   "name": "python3"
  },
  "language_info": {
   "codemirror_mode": {
    "name": "ipython",
    "version": 3
   },
   "file_extension": ".py",
   "mimetype": "text/x-python",
   "name": "python",
   "nbconvert_exporter": "python",
   "pygments_lexer": "ipython3",
   "version": "3.10.11"
  }
 },
 "nbformat": 4,
 "nbformat_minor": 5
}
