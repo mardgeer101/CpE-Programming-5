{
 "cells": [
  {
   "cell_type": "markdown",
   "id": "c3cbac0f-7506-4eb8-83fe-5762c8c88bcd",
   "metadata": {},
   "source": [
    "# Data Structures I: Lists and Tuples\n",
    "\n",
    "---\n",
    "\n",
    "## ✅ Learning Objectives\n",
    "By the end of this lesson, you will be able to:\n",
    "- Create and manipulate **lists** and **tuples** in Python.\n",
    "- Perform common operations like **indexing**, **slicing**, **adding**, and **removing** elements.\n",
    "- Understand the difference between **mutable** and **immutable** data structures.\n",
    "\n",
    "---"
   ]
  },
  {
   "cell_type": "markdown",
   "id": "f12142c1-dc0a-4459-b796-8a776cebdde0",
   "metadata": {},
   "source": [
    "### 1. **Introduction to Data Structures**\n",
    "\n",
    "---\n",
    "\n",
    "#### ✅ What are Data Structures?\n",
    "\n",
    "- **Data structures** are specialized ways of organizing, storing, and managing data so it can be used efficiently.\n",
    "- In Python, data structures are **containers** that organize data in different ways for effective access and modification.\n",
    "- They allow programmers to handle large amounts of data systematically and efficiently.\n",
    "\n",
    "#### ➡️ Example\n",
    "Imagine you want to store the names of 100 students.  \n",
    "- Instead of creating 100 separate variables, you can use a **list**, which can hold all these names in a single structure.\n",
    "\n",
    "#### ✅ Importance in Python Programming\n",
    "1. **Efficient Data Management**\n",
    "   - Data structures help in storing data efficiently.\n",
    "   - Example: Lists can dynamically store a collection of items without defining size.\n",
    "\n",
    "2. **Faster Processing**\n",
    "   - Well-chosen data structures can **speed up** programs by reducing time complexity.\n",
    "   - Example: Using **dictionaries** for fast lookups compared to searching in lists.\n",
    "\n",
    "3. **Organized Code**\n",
    "   - Code becomes easier to manage, read, and debug.\n",
    "   - Example: A **tuple** can represent fixed data like coordinates (x, y), ensuring values don't change by mistake.\n",
    "\n",
    "4. **Foundation for Algorithms**\n",
    "   - Algorithms rely on data structures to perform operations like searching, sorting, and graph traversal.\n",
    "   - Example: Sorting data stored in a list using the `sort()` method.\n",
    "\n",
    "---\n",
    "\n",
    "#### ✅ Common Data Structures in Python\n",
    "\n",
    "| Data Structure | Example                  | Description                                      |\n",
    "|----------------|--------------------------|--------------------------------------------------|\n",
    "| **List**       | `[1, 2, 3]`              | Ordered, mutable collection                     |\n",
    "| **Tuple**      | `(1, 2, 3)`              | Ordered, immutable collection                   |\n",
    "| **Dictionary** | `{\"name\": \"John\"}`       | Key-value pairs                                 |\n",
    "| **Set**        | `{1, 2, 3}`              | Unordered, unique items                         |\n",
    "\n",
    "\n",
    "---\n",
    "\n",
    "#### ✅ Real-World Example\n",
    "- **Shopping Cart (List)**: Store the items you want to purchase.\n",
    "- **GPS Coordinates (Tuple)**: Store fixed locations like latitude and longitude.\n",
    "- **Phonebook (Dictionary)**: Store names with their phone numbers.\n",
    "- **Student Attendance (Set)**: Track unique IDs of students who attended.\n",
    "\n",
    "---\n",
    "\n",
    "✅ **In this lesson**, we will focus on **Lists** and **Tuples**, two of the most common and useful data structures in Python.\n"
   ]
  },
  {
   "cell_type": "markdown",
   "id": "02ad57fa-f26f-4725-8453-1eea64d27169",
   "metadata": {},
   "source": [
    "### 2. **Lists**\n",
    "\n",
    "---\n",
    "\n",
    "#### ✅ Definition and Characteristics\n",
    "- A **list** is an **ordered**, **mutable** collection of items.\n",
    "- Lists can store **multiple data types** (integers, strings, other lists, etc.).\n",
    "- Lists are **indexed**, starting from **0**.\n",
    "- Items can be **added, removed, or changed**.\n",
    "\n",
    "---"
   ]
  },
  {
   "cell_type": "markdown",
   "id": "55bb591b-1e5a-4d5e-9160-06fee3e3c028",
   "metadata": {},
   "source": [
    "#### ➡️ Creating Lists"
   ]
  },
  {
   "cell_type": "code",
   "execution_count": 32,
   "id": "41b66f3f-8eb9-4e57-85c7-da2d30d7c58e",
   "metadata": {},
   "outputs": [],
   "source": [
    "# Empty list\n",
    "empty_list = []\n",
    "\n",
    "# List of numbers\n",
    "numbers = [10, 20, 30, 40]\n",
    "\n",
    "# Mixed data types\n",
    "mixed_list = [1, \"apple\", True, 3.14]\n",
    "\n",
    "# Nested lists\n",
    "nested_list = [[1, 2], [3, 4]]"
   ]
  },
  {
   "cell_type": "markdown",
   "id": "5c0a711d-a1d0-479c-ad1b-2cbe0f972fb2",
   "metadata": {},
   "source": [
    "#### ➡️ Accessing Elements (Indexing)\n",
    "\n",
    "- Lists in Python are **zero-indexed**, meaning the first element is at index `0`, the second at `1`, and so on.\n",
    "- You can also use **negative indexing** to access elements from the end of the list.  \n",
    "  `-1` refers to the last item, `-2` to the second last, etc.\n",
    "#### ➡️ Syntax\r\n",
    "```python\r\n",
    "list_name[index]"
   ]
  },
  {
   "cell_type": "code",
   "execution_count": 54,
   "id": "27d3d893-ba6d-4c1e-9920-2ea812798ecf",
   "metadata": {},
   "outputs": [
    {
     "name": "stdout",
     "output_type": "stream",
     "text": [
      "apple\n",
      "cherry\n",
      "orange\n",
      "banana\n"
     ]
    }
   ],
   "source": [
    "fruits = [\"apple\", \"banana\", \"cherry\", \"orange\"]\n",
    "\n",
    "print(fruits[0])    # Output: apple (first item)\n",
    "print(fruits[2])    # Output: cherry (third item)\n",
    "print(fruits[-1])   # Output: orange (last item)\n",
    "print(fruits[-3])   # Output: banana (third from the end)"
   ]
  },
  {
   "cell_type": "markdown",
   "id": "acb3ef01-0cc5-4471-9d4c-73397655e35d",
   "metadata": {},
   "source": [
    "#### ➡️ Modifying Lists\n"
   ]
  },
  {
   "cell_type": "code",
   "execution_count": 55,
   "id": "d93627b7-08cd-4da9-a881-8c9d12a9ed81",
   "metadata": {},
   "outputs": [
    {
     "name": "stdout",
     "output_type": "stream",
     "text": [
      "['apple', 'pineapple', 'cherry', 'orange']\n"
     ]
    }
   ],
   "source": [
    "fruits[1] = 'pineapple'\n",
    "print(fruits)"
   ]
  },
  {
   "cell_type": "markdown",
   "id": "cc48a9c4-902a-45bd-9e0a-84857af6a9ec",
   "metadata": {},
   "source": [
    "#### ➡️ Useful List Methods\n"
   ]
  },
  {
   "cell_type": "code",
   "execution_count": 56,
   "id": "ba8abd35-985d-4b6d-90a9-bf8ab721aa98",
   "metadata": {},
   "outputs": [
    {
     "name": "stdout",
     "output_type": "stream",
     "text": [
      "Appending 'guava' fruit in the list: ['apple', 'pineapple', 'cherry', 'orange', 'guava']\n",
      "Inserting 'mango' fruit in index[1] of the list: ['apple', 'mango', 'pineapple', 'cherry', 'orange', 'guava']\n",
      "Removing 'apple' in the list: ['mango', 'pineapple', 'cherry', 'orange', 'guava']\n",
      "Sorting the list: ['cherry', 'guava', 'mango', 'orange', 'pineapple']\n"
     ]
    }
   ],
   "source": [
    "#Appending Items\n",
    "fruits.append('guava')\n",
    "print(f'Appending \\'guava\\' fruit in the list: {fruits}')\n",
    "\n",
    "#Inserting Items\n",
    "fruits.insert(1,'mango')\n",
    "print(f'Inserting \\'mango\\' fruit in index[1] of the list: {fruits}')\n",
    "\n",
    "#Removing Items\n",
    "fruits.remove('apple')\n",
    "print(f'Removing \\'apple\\' in the list: {fruits}')\n",
    "\n",
    "#Sorting Items\n",
    "fruits.sort()\n",
    "print(f'Sorting the list: {fruits}')"
   ]
  },
  {
   "cell_type": "markdown",
   "id": "2d982a97-a39f-4ca6-8574-6f15e8041c60",
   "metadata": {},
   "source": [
    "#### ➡️ Slicing a List\n"
   ]
  },
  {
   "cell_type": "code",
   "execution_count": 57,
   "id": "d60605d8-f586-4f93-83e5-0a30a4499db3",
   "metadata": {},
   "outputs": [
    {
     "name": "stdout",
     "output_type": "stream",
     "text": [
      "['cherry']\n"
     ]
    }
   ],
   "source": [
    "print(fruits[:1])"
   ]
  },
  {
   "cell_type": "markdown",
   "id": "17987836-e39f-4139-bb8e-fc0ceab8b89a",
   "metadata": {},
   "source": [
    "#### Word Problem: Grocery Budget Tracker\n",
    "**Scenario:**\n",
    "You are creating a Python program to help your mom keep track of grocery spending. She wants to list down the prices of all items she buys during a market trip and calculate the total amount spent.\n",
    "\n",
    "**Task:**\n",
    "\n",
    "1. Create a list to store the prices of 5 grocery items.\n",
    "2. Ask the user to input the price for each item.\n",
    "3. Display all the prices entered.\n",
    "4. Compute and print the total and average cost.\n",
    "5. Display the most and least expensive item.\n",
    "\n",
    "**sample output:**\n",
    "```python\n",
    "Enter price for item 1: ₱ 50\n",
    "Enter price for item 2: ₱ 55\n",
    "Enter price for item 3: ₱ 45\n",
    "Enter price for item 4: ₱ 50\n",
    "Enter price for item 5: ₱ 50\n",
    "\n",
    "Prices entered: [50.0, 55.0, 45.0, 50.0, 50.0]\n",
    "Total spent: ₱250.00\n",
    "Average cost per item: ₱50.00\n",
    "Most expensive item: ₱55.00\n",
    "Least expensive item: ₱45.00\n",
    "```"
   ]
  },
  {
   "cell_type": "code",
   "execution_count": null,
   "id": "89d5b70c-874b-4b4d-ad1e-fa1d82d89113",
   "metadata": {},
   "outputs": [],
   "source": [
    "prices = []\n",
    "\n",
    "for i in range(5):\n",
    "    price = float(input(f\"Enter price for item {i+1}: ₱\"))\n",
    "    prices.append(price)\n",
    "\n",
    "print(\"\\nPrices entered:\", prices)\n",
    "\n",
    "total = sum(prices)\n",
    "average = total / len(prices)\n",
    "\n",
    "most_expensive = max(prices)\n",
    "least_expensive = min(prices)\n",
    "\n",
    "print(f\"Total spent: ₱{total:.2f}\")\n",
    "print(f\"Average cost per item: ₱{average:.2f}\")\n",
    "print(f\"Most expensive item: ₱{most_expensive:.2f}\")\n",
    "print(f\"Least expensive item: ₱{least_expensive:.2f}\")\n"
   ]
  },
  {
   "cell_type": "markdown",
   "id": "e37863b0-cb9c-4c16-a94b-089c78bba195",
   "metadata": {},
   "source": [
    "#### Word Problem: Class Attendance Recorder\n",
    "**Scenario:**\n",
    "You are asked by your class president to create a simple program that keeps track of students who attended today’s class. The list must allow for adding names, sorting them alphabetically, and displaying the total number of students present.\n",
    "\n",
    "**Task:**\n",
    "1. Ask the user how many students attended.\n",
    "2. Use a loop to input each student's name and store them in a list.\n",
    "3. Display the original list of names.\n",
    "4. Sort the list alphabetically and display it.\n",
    "5. Print the total number of students who attended.\n",
    "\n",
    "**Sample output:**\n",
    "```python\n",
    "How many students attended today?  5\n",
    "Enter name of student 1:  luke\n",
    "Enter name of student 2:  mark\n",
    "Enter name of student 3:  john\n",
    "Enter name of student 4:  grace\n",
    "Enter name of student 5:  mary\n",
    "\n",
    "Original attendance list:\n",
    "['luke', 'mark', 'john', 'grace', 'mary']\n",
    "\n",
    "Sorted attendance list:\n",
    "['grace', 'john', 'luke', 'mark', 'mary']\n",
    "\n",
    "Total number of students present: 5\n",
    "```\n"
   ]
  },
  {
   "cell_type": "code",
   "execution_count": null,
   "id": "a0ab0cad-babe-4588-949a-99e9116b42ea",
   "metadata": {},
   "outputs": [],
   "source": [
    "num_students = int(input(\"How many students attended today? \"))\n",
    "\n",
    "attendance = []\n",
    "for i in range(num_students):\n",
    "    name = input(f\"Enter name of student {i+1}: \")\n",
    "    attendance.append(name)\n",
    "\n",
    "print(\"\\nOriginal attendance list:\")\n",
    "print(attendance)\n",
    "\n",
    "attendance.sort()\n",
    "print(\"\\nSorted attendance list:\")\n",
    "print(attendance)\n",
    "\n",
    "print(f\"\\nTotal number of students present: {len(attendance)}\")"
   ]
  },
  {
   "cell_type": "markdown",
   "id": "207ab32e-e8b4-462e-ac6c-8ab3f2e410c6",
   "metadata": {},
   "source": [
    "### 3. **Tuples**\n",
    "\n",
    "---\n",
    "\n",
    "#### ✅ Definition and Characteristics\n",
    "- A **tuple** is an **ordered**, **immutable** collection of items.\n",
    "- Tuples are defined using parentheses `()`.\n",
    "\n",
    "#### ➡️ Creating and Accessing Tuples\n",
    "```python\n",
    "my_tuple = (value1, value2, value3)\n",
    "\n",
    "# Access elements\n",
    "print(my_tuple[0])\n",
    "```"
   ]
  },
  {
   "cell_type": "code",
   "execution_count": 58,
   "id": "63c91b39-0b94-4b97-ae60-85bdc50d2ed2",
   "metadata": {},
   "outputs": [
    {
     "name": "stdout",
     "output_type": "stream",
     "text": [
      "10.5\n"
     ]
    }
   ],
   "source": [
    "coordinates = (10.5, 20.3)\n",
    "print(coordinates[0])"
   ]
  },
  {
   "cell_type": "markdown",
   "id": "ad0f0934-0f21-40c9-a46c-223480c3019a",
   "metadata": {},
   "source": [
    "#### ➡️ Why use Tuples?\n",
    "- Tuples are faster than lists\n",
    "- Useful for fixed data (like coordinates)\n",
    "- Can be used as dictionary keys\n"
   ]
  },
  {
   "cell_type": "markdown",
   "id": "0a39b0d0-761b-4c2c-bd9e-313de74fec53",
   "metadata": {},
   "source": [
    "#### Tuple Unpacking\n",
    "\n",
    "✅ Tuple unpacking assigns values to variables directly."
   ]
  },
  {
   "cell_type": "code",
   "execution_count": 60,
   "id": "db6cb079-393e-4f7b-bb39-934c4bcfa454",
   "metadata": {},
   "outputs": [
    {
     "name": "stdout",
     "output_type": "stream",
     "text": [
      "Hello Juan Dela Cruz\n"
     ]
    }
   ],
   "source": [
    "name = (\"Juan\", \"Dela Cruz\")\n",
    "first, last = name\n",
    "print(f\"Hello {first} {last}\")"
   ]
  },
  {
   "cell_type": "markdown",
   "id": "e7bd9ae3-13fe-4a0c-850d-4ba5c6bda436",
   "metadata": {},
   "source": [
    "#### Tuple as Dictionary Key\n",
    "✅ Only immutable types (like tuples) can be used as dictionary keys."
   ]
  },
  {
   "cell_type": "code",
   "execution_count": 61,
   "id": "97581fda-4e38-4d89-857a-b598b3d4d864",
   "metadata": {},
   "outputs": [
    {
     "name": "stdout",
     "output_type": "stream",
     "text": [
      "{(2, 3): 'Tree'}\n"
     ]
    }
   ],
   "source": [
    "data = {}\n",
    "point = (2, 3)\n",
    "data[point] = \"Tree\"\n",
    "print(data)\n"
   ]
  },
  {
   "cell_type": "markdown",
   "id": "d7c818cc-d53d-418e-b826-8723a786fe49",
   "metadata": {},
   "source": [
    "#### Returning Multiple Values\n",
    "✅ Tuples are useful for returning multiple values from a function."
   ]
  },
  {
   "cell_type": "code",
   "execution_count": 62,
   "id": "5297626e-dcca-4173-9038-9009bd4dae8f",
   "metadata": {},
   "outputs": [
    {
     "name": "stdout",
     "output_type": "stream",
     "text": [
      "(1, 9)\n"
     ]
    }
   ],
   "source": [
    "def get_min_max(numbers):\n",
    "    return (min(numbers), max(numbers))\n",
    "\n",
    "print(get_min_max([3, 5, 9, 1]))\n"
   ]
  },
  {
   "cell_type": "markdown",
   "id": "d9792f23-74f4-4bbf-a52c-63579d9c6872",
   "metadata": {},
   "source": [
    "#### Immutable Record\n",
    "✅ Tuples are ideal for fixed data that should not be altered."
   ]
  },
  {
   "cell_type": "code",
   "execution_count": 63,
   "id": "1382963e-9f2e-4828-913d-e2023a252bb0",
   "metadata": {},
   "outputs": [
    {
     "name": "stdout",
     "output_type": "stream",
     "text": [
      "('Mark', 21, 'BS CpE')\n"
     ]
    }
   ],
   "source": [
    "student = (\"Mark\", 21, \"BS CpE\")\n",
    "# student[1] = 22  ❌ Error: Tuples are immutable\n",
    "print(student)\n"
   ]
  }
 ],
 "metadata": {
  "kernelspec": {
   "display_name": "Python 3 (ipykernel)",
   "language": "python",
   "name": "python3"
  },
  "language_info": {
   "codemirror_mode": {
    "name": "ipython",
    "version": 3
   },
   "file_extension": ".py",
   "mimetype": "text/x-python",
   "name": "python",
   "nbconvert_exporter": "python",
   "pygments_lexer": "ipython3",
   "version": "3.10.11"
  }
 },
 "nbformat": 4,
 "nbformat_minor": 5
}
